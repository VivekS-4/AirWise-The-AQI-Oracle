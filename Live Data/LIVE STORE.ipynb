{
 "cells": [
  {
   "cell_type": "code",
   "execution_count": 12,
   "id": "d1643c97",
   "metadata": {},
   "outputs": [
    {
     "name": "stdout",
     "output_type": "stream",
     "text": [
      "Requirement already satisfied: requests in c:\\users\\nabil\\anaconda3\\new folder\\lib\\site-packages (2.28.1)\n",
      "Requirement already satisfied: certifi>=2017.4.17 in c:\\users\\nabil\\anaconda3\\new folder\\lib\\site-packages (from requests) (2022.12.7)\n",
      "Requirement already satisfied: charset-normalizer<3,>=2 in c:\\users\\nabil\\anaconda3\\new folder\\lib\\site-packages (from requests) (2.0.4)\n",
      "Requirement already satisfied: urllib3<1.27,>=1.21.1 in c:\\users\\nabil\\anaconda3\\new folder\\lib\\site-packages (from requests) (1.26.14)\n",
      "Requirement already satisfied: idna<4,>=2.5 in c:\\users\\nabil\\anaconda3\\new folder\\lib\\site-packages (from requests) (3.4)\n",
      "Note: you may need to restart the kernel to use updated packages.\n"
     ]
    }
   ],
   "source": [
    "pip install requests"
   ]
  },
  {
   "cell_type": "code",
   "execution_count": 13,
   "id": "862cc27d",
   "metadata": {},
   "outputs": [],
   "source": [
    "import csv\n",
    "import os\n",
    "import json\n",
    "import requests"
   ]
  },
  {
   "cell_type": "code",
   "execution_count": 40,
   "id": "4e685c1c",
   "metadata": {},
   "outputs": [
    {
     "name": "stdout",
     "output_type": "stream",
     "text": [
      "{\n",
      "    \"co\": 297.1,\n",
      "    \"no2\": 13.9,\n",
      "    \"o3\": 58.7,\n",
      "    \"so2\": 6.0,\n",
      "    \"pm2_5\": 10.6,\n",
      "    \"pm10\": 12.2\n",
      "}\n"
     ]
    }
   ],
   "source": [
    "base = \"http://api.weatherapi.com/v1/current.json?\"\n",
    "key = \"45b07e7bb09e49c58b3152953230910\"\n",
    "q= \"Toronto\"\n",
    "url = base+\"key=\"+key+\"&q=\"+q+\"&aqi=yes\"\n",
    "\n",
    "response = requests.get(url)\n",
    "data = response.json()\n",
    "\n",
    "# Extract air quality data\n",
    "air_quality_data = data['current']['air_quality']\n",
    "\n",
    "air_quality_data.pop(\"us-epa-index\", None)\n",
    "air_quality_data.pop(\"gb-defra-index\", None)\n",
    "\n",
    "# Print the air quality data\n",
    "print(json.dumps(air_quality_data, indent=4))\n",
    "\n",
    "\n",
    "#print(json.dumps(data, indent=4))"
   ]
  },
  {
   "cell_type": "code",
   "execution_count": 17,
   "id": "16468b67",
   "metadata": {},
   "outputs": [
    {
     "name": "stdout",
     "output_type": "stream",
     "text": [
      "Data has been written to C:\\Users\\nabil\\OneDrive\\Desktop\\weather.xlsx\n"
     ]
    }
   ],
   "source": [
    "# Define the filename for your CSV file\n",
    "csv_filename = \"C:\\\\Users\\\\nabil\\\\OneDrive\\\\Desktop\\\\weather.xlsx\"\n",
    "\n",
    "# Check if the CSV file already exists\n",
    "if not os.path.exists(csv_filename):\n",
    "    # If the file doesn't exist, create a new one and write the header row\n",
    "    with open(csv_filename, mode='w', newline='') as file:\n",
    "        writer = csv.writer(file)\n",
    "        # Define the header row based on the JSON keys\n",
    "        header = [\"city\", \"co\", \"no2\", \"o3\", \"so2\", \"pm2_5\", \"pm10\"]\n",
    "        writer.writerow(header)\n",
    "else:\n",
    "    # If the file already exists, we will append data to it\n",
    "    with open(csv_filename, mode='a', newline='') as file:\n",
    "        writer = csv.writer(file)\n",
    "\n",
    "base = \"http://api.weatherapi.com/v1/current.json?\"\n",
    "key = \"45b07e7bb09e49c58b3152953230910\"\n",
    "cities = [\"pickering\", \"london\", \"new_york\"]  # Add more cities as needed\n",
    "\n",
    "for city in cities:\n",
    "    q = city\n",
    "    url = base + \"key=\" + key + \"&q=\" + q + \"&aqi=yes\"\n",
    "    response = requests.get(url)\n",
    "    data = response.json()\n",
    "\n",
    "    # Extract air quality data\n",
    "    air_quality_data = data['current']['air_quality']\n",
    "    \n",
    "    air_quality_data.pop(\"us-epa-index\", None)\n",
    "    air_quality_data.pop(\"gb-defra-index\", None)\n",
    "\n",
    "    \n",
    "\n",
    "# List of possible encodings to try\n",
    "encodings_to_try = ['utf-8', 'utf-16', 'latin-1', 'cp1252']\n",
    "\n",
    "for encoding in encodings_to_try:\n",
    "    try:\n",
    "        with open(csv_filename, 'r', encoding=encoding) as file:\n",
    "            lines = file.readlines()\n",
    "            city_exists = any(city in line for line in lines)\n",
    "        if city_exists:\n",
    "            break\n",
    "    except UnicodeDecodeError:\n",
    "        continue\n",
    "\n",
    "if not city_exists:\n",
    "    with open(csv_filename, 'a', newline='', encoding=encoding) as file:\n",
    "        writer = csv.writer(file)\n",
    "        writer.writerow([city] + [None] * (len(header) - 1))\n",
    "\n",
    "# Check if the city name is already in the CSV file\n",
    "#with open(csv_filename, 'r', encoding='utf-8') as file:  # Specify the encoding here\n",
    "   # csv_data = csv.reader(file)\n",
    "    #city_exists = any(city in row for row in csv_data)\n",
    "\n",
    "    # If the city doesn't exist in the CSV, write the city name and column names\n",
    "    #if not city_exists:\n",
    "       # with open(csv_filename, 'a', newline='') as file:\n",
    "            #writer = csv.writer(file)\n",
    "            #writer.writerow([city] + [None] * (len(header) - 1))  # Write city name and fill other columns with None\n",
    "\n",
    "    # Write the air quality data to the CSV file, skipping the city name and column names\n",
    "    with open(csv_filename, 'a', newline='') as file:\n",
    "        writer = csv.writer(file)\n",
    "        row = [city] + [air_quality_data[column] for column in header[1:]]\n",
    "        writer.writerow(row)\n",
    "\n",
    "print(\"Data has been written to\", csv_filename)\n"
   ]
  },
  {
   "cell_type": "code",
   "execution_count": 18,
   "id": "1f7bce9b",
   "metadata": {},
   "outputs": [
    {
     "name": "stdout",
     "output_type": "stream",
     "text": [
      "Requirement already satisfied: pandas in c:\\users\\nabil\\anaconda3\\new folder\\lib\\site-packages (1.5.3)\n",
      "Requirement already satisfied: python-dateutil>=2.8.1 in c:\\users\\nabil\\anaconda3\\new folder\\lib\\site-packages (from pandas) (2.8.2)\n",
      "Requirement already satisfied: numpy>=1.21.0 in c:\\users\\nabil\\anaconda3\\new folder\\lib\\site-packages (from pandas) (1.23.5)\n",
      "Requirement already satisfied: pytz>=2020.1 in c:\\users\\nabil\\anaconda3\\new folder\\lib\\site-packages (from pandas) (2022.7)\n",
      "Requirement already satisfied: six>=1.5 in c:\\users\\nabil\\anaconda3\\new folder\\lib\\site-packages (from python-dateutil>=2.8.1->pandas) (1.16.0)\n",
      "Note: you may need to restart the kernel to use updated packages.\n"
     ]
    }
   ],
   "source": [
    "pip install pandas"
   ]
  },
  {
   "cell_type": "code",
   "execution_count": 27,
   "id": "a925b5a6",
   "metadata": {},
   "outputs": [
    {
     "name": "stdout",
     "output_type": "stream",
     "text": [
      "Data has been written to C:\\Users\\nabil\\OneDrive\\Desktop\\weather.xlsx\n"
     ]
    }
   ],
   "source": [
    "import pandas as pd\n",
    "\n",
    "# Define the filename for your Excel file\n",
    "excel_filename = \"C:\\\\Users\\\\nabil\\\\OneDrive\\\\Desktop\\\\weather.xlsx\"\n",
    "\n",
    "# Check if the Excel file already exists\n",
    "if not os.path.exists(excel_filename):\n",
    "    # If the file doesn't exist, create a new one and write the header row\n",
    "    data = pd.DataFrame(columns=[\"city\", \"co\", \"no2\", \"o3\", \"so2\", \"pm2_5\", \"pm10\", \"us-epa-index\", \"gb-defra-index\"])\n",
    "else:\n",
    "    # If the file already exists, we will append data to it\n",
    "    try:\n",
    "        data = pd.read_excel(excel_filename)\n",
    "    except pd.errors.EmptyDataError:\n",
    "        # Handle the case when the file is empty\n",
    "        data = pd.DataFrame(columns=[\"city\", \"co\", \"no2\", \"o3\", \"so2\", \"pm2_5\", \"pm10\", \"us-epa-index\", \"gb-defra-index\"])\n",
    "\n",
    "# Check if the 'city' column exists in the DataFrame\n",
    "if 'city' not in data.columns:\n",
    "    # If 'city' column doesn't exist, add it\n",
    "    data.insert(0, 'city', '')\n",
    "\n",
    "# Check if the city name is already in the Excel file\n",
    "city_exists = city in data['city'].values\n",
    "\n",
    "# If the city doesn't exist in the Excel file, append the data\n",
    "if not city_exists:\n",
    "    city_data = {\"city\": city}\n",
    "    for key in [\"co\", \"no2\", \"o3\", \"so2\", \"pm2_5\", \"pm10\", \"us-epa-index\", \"gb-defra-index\"]:\n",
    "        city_data[key] = air_quality_data.get(key, None)\n",
    "    data = data.append(city_data, ignore_index=True)\n",
    "    \n",
    "# Drop the \"us-epa-index\" and \"gb-defra-index\" columns\n",
    "data = data.drop([\"us-epa-index\", \"gb-defra-index\"], axis=1)\n",
    "\n",
    "print(\"Data has been written to\", excel_filename)\n"
   ]
  },
  {
   "cell_type": "code",
   "execution_count": 35,
   "id": "64e03e3c",
   "metadata": {},
   "outputs": [
    {
     "name": "stderr",
     "output_type": "stream",
     "text": [
      "C:\\Users\\nabil\\AppData\\Local\\Temp\\ipykernel_3396\\4078583405.py:34: FutureWarning: The frame.append method is deprecated and will be removed from pandas in a future version. Use pandas.concat instead.\n",
      "  data = data.append(city_data, ignore_index=True)\n"
     ]
    },
    {
     "ename": "PermissionError",
     "evalue": "[Errno 13] Permission denied: 'C:\\\\Users\\\\nabil\\\\OneDrive\\\\Desktop\\\\weather.xlsx'",
     "output_type": "error",
     "traceback": [
      "\u001b[1;31m---------------------------------------------------------------------------\u001b[0m",
      "\u001b[1;31mPermissionError\u001b[0m                           Traceback (most recent call last)",
      "Cell \u001b[1;32mIn[35], line 40\u001b[0m\n\u001b[0;32m     34\u001b[0m     data \u001b[38;5;241m=\u001b[39m data\u001b[38;5;241m.\u001b[39mappend(city_data, ignore_index\u001b[38;5;241m=\u001b[39m\u001b[38;5;28;01mTrue\u001b[39;00m)\n\u001b[0;32m     35\u001b[0m \u001b[38;5;66;03m# Drop the columns that you want to remove\u001b[39;00m\n\u001b[0;32m     36\u001b[0m \u001b[38;5;66;03m#columns_to_drop = [\"us_epa_index\", \"gb_defra_index\"]\u001b[39;00m\n\u001b[0;32m     37\u001b[0m \u001b[38;5;66;03m#data = data.drop(columns_to_drop, axis=1)\u001b[39;00m\n\u001b[0;32m     38\u001b[0m \n\u001b[0;32m     39\u001b[0m \u001b[38;5;66;03m# Write the data to the Excel file\u001b[39;00m\n\u001b[1;32m---> 40\u001b[0m \u001b[43mdata\u001b[49m\u001b[38;5;241;43m.\u001b[39;49m\u001b[43mto_excel\u001b[49m\u001b[43m(\u001b[49m\u001b[43mexcel_filename\u001b[49m\u001b[43m,\u001b[49m\u001b[43m \u001b[49m\u001b[43mindex\u001b[49m\u001b[38;5;241;43m=\u001b[39;49m\u001b[38;5;28;43;01mFalse\u001b[39;49;00m\u001b[43m)\u001b[49m\n\u001b[0;32m     42\u001b[0m \u001b[38;5;28mprint\u001b[39m(\u001b[38;5;124m\"\u001b[39m\u001b[38;5;124mData for\u001b[39m\u001b[38;5;124m\"\u001b[39m, new_city_name, \u001b[38;5;124m\"\u001b[39m\u001b[38;5;124mhas been written to\u001b[39m\u001b[38;5;124m\"\u001b[39m, excel_filename)\n",
      "File \u001b[1;32m~\\anaconda3\\New folder\\lib\\site-packages\\pandas\\util\\_decorators.py:211\u001b[0m, in \u001b[0;36mdeprecate_kwarg.<locals>._deprecate_kwarg.<locals>.wrapper\u001b[1;34m(*args, **kwargs)\u001b[0m\n\u001b[0;32m    209\u001b[0m     \u001b[38;5;28;01melse\u001b[39;00m:\n\u001b[0;32m    210\u001b[0m         kwargs[new_arg_name] \u001b[38;5;241m=\u001b[39m new_arg_value\n\u001b[1;32m--> 211\u001b[0m \u001b[38;5;28;01mreturn\u001b[39;00m func(\u001b[38;5;241m*\u001b[39margs, \u001b[38;5;241m*\u001b[39m\u001b[38;5;241m*\u001b[39mkwargs)\n",
      "File \u001b[1;32m~\\anaconda3\\New folder\\lib\\site-packages\\pandas\\util\\_decorators.py:211\u001b[0m, in \u001b[0;36mdeprecate_kwarg.<locals>._deprecate_kwarg.<locals>.wrapper\u001b[1;34m(*args, **kwargs)\u001b[0m\n\u001b[0;32m    209\u001b[0m     \u001b[38;5;28;01melse\u001b[39;00m:\n\u001b[0;32m    210\u001b[0m         kwargs[new_arg_name] \u001b[38;5;241m=\u001b[39m new_arg_value\n\u001b[1;32m--> 211\u001b[0m \u001b[38;5;28;01mreturn\u001b[39;00m func(\u001b[38;5;241m*\u001b[39margs, \u001b[38;5;241m*\u001b[39m\u001b[38;5;241m*\u001b[39mkwargs)\n",
      "File \u001b[1;32m~\\anaconda3\\New folder\\lib\\site-packages\\pandas\\core\\generic.py:2374\u001b[0m, in \u001b[0;36mNDFrame.to_excel\u001b[1;34m(self, excel_writer, sheet_name, na_rep, float_format, columns, header, index, index_label, startrow, startcol, engine, merge_cells, encoding, inf_rep, verbose, freeze_panes, storage_options)\u001b[0m\n\u001b[0;32m   2361\u001b[0m \u001b[38;5;28;01mfrom\u001b[39;00m \u001b[38;5;21;01mpandas\u001b[39;00m\u001b[38;5;21;01m.\u001b[39;00m\u001b[38;5;21;01mio\u001b[39;00m\u001b[38;5;21;01m.\u001b[39;00m\u001b[38;5;21;01mformats\u001b[39;00m\u001b[38;5;21;01m.\u001b[39;00m\u001b[38;5;21;01mexcel\u001b[39;00m \u001b[38;5;28;01mimport\u001b[39;00m ExcelFormatter\n\u001b[0;32m   2363\u001b[0m formatter \u001b[38;5;241m=\u001b[39m ExcelFormatter(\n\u001b[0;32m   2364\u001b[0m     df,\n\u001b[0;32m   2365\u001b[0m     na_rep\u001b[38;5;241m=\u001b[39mna_rep,\n\u001b[1;32m   (...)\u001b[0m\n\u001b[0;32m   2372\u001b[0m     inf_rep\u001b[38;5;241m=\u001b[39minf_rep,\n\u001b[0;32m   2373\u001b[0m )\n\u001b[1;32m-> 2374\u001b[0m \u001b[43mformatter\u001b[49m\u001b[38;5;241;43m.\u001b[39;49m\u001b[43mwrite\u001b[49m\u001b[43m(\u001b[49m\n\u001b[0;32m   2375\u001b[0m \u001b[43m    \u001b[49m\u001b[43mexcel_writer\u001b[49m\u001b[43m,\u001b[49m\n\u001b[0;32m   2376\u001b[0m \u001b[43m    \u001b[49m\u001b[43msheet_name\u001b[49m\u001b[38;5;241;43m=\u001b[39;49m\u001b[43msheet_name\u001b[49m\u001b[43m,\u001b[49m\n\u001b[0;32m   2377\u001b[0m \u001b[43m    \u001b[49m\u001b[43mstartrow\u001b[49m\u001b[38;5;241;43m=\u001b[39;49m\u001b[43mstartrow\u001b[49m\u001b[43m,\u001b[49m\n\u001b[0;32m   2378\u001b[0m \u001b[43m    \u001b[49m\u001b[43mstartcol\u001b[49m\u001b[38;5;241;43m=\u001b[39;49m\u001b[43mstartcol\u001b[49m\u001b[43m,\u001b[49m\n\u001b[0;32m   2379\u001b[0m \u001b[43m    \u001b[49m\u001b[43mfreeze_panes\u001b[49m\u001b[38;5;241;43m=\u001b[39;49m\u001b[43mfreeze_panes\u001b[49m\u001b[43m,\u001b[49m\n\u001b[0;32m   2380\u001b[0m \u001b[43m    \u001b[49m\u001b[43mengine\u001b[49m\u001b[38;5;241;43m=\u001b[39;49m\u001b[43mengine\u001b[49m\u001b[43m,\u001b[49m\n\u001b[0;32m   2381\u001b[0m \u001b[43m    \u001b[49m\u001b[43mstorage_options\u001b[49m\u001b[38;5;241;43m=\u001b[39;49m\u001b[43mstorage_options\u001b[49m\u001b[43m,\u001b[49m\n\u001b[0;32m   2382\u001b[0m \u001b[43m\u001b[49m\u001b[43m)\u001b[49m\n",
      "File \u001b[1;32m~\\anaconda3\\New folder\\lib\\site-packages\\pandas\\io\\formats\\excel.py:944\u001b[0m, in \u001b[0;36mExcelFormatter.write\u001b[1;34m(self, writer, sheet_name, startrow, startcol, freeze_panes, engine, storage_options)\u001b[0m\n\u001b[0;32m    940\u001b[0m     need_save \u001b[38;5;241m=\u001b[39m \u001b[38;5;28;01mFalse\u001b[39;00m\n\u001b[0;32m    941\u001b[0m \u001b[38;5;28;01melse\u001b[39;00m:\n\u001b[0;32m    942\u001b[0m     \u001b[38;5;66;03m# error: Cannot instantiate abstract class 'ExcelWriter' with abstract\u001b[39;00m\n\u001b[0;32m    943\u001b[0m     \u001b[38;5;66;03m# attributes 'engine', 'save', 'supported_extensions' and 'write_cells'\u001b[39;00m\n\u001b[1;32m--> 944\u001b[0m     writer \u001b[38;5;241m=\u001b[39m \u001b[43mExcelWriter\u001b[49m\u001b[43m(\u001b[49m\u001b[43m  \u001b[49m\u001b[38;5;66;43;03m# type: ignore[abstract]\u001b[39;49;00m\n\u001b[0;32m    945\u001b[0m \u001b[43m        \u001b[49m\u001b[43mwriter\u001b[49m\u001b[43m,\u001b[49m\u001b[43m \u001b[49m\u001b[43mengine\u001b[49m\u001b[38;5;241;43m=\u001b[39;49m\u001b[43mengine\u001b[49m\u001b[43m,\u001b[49m\u001b[43m \u001b[49m\u001b[43mstorage_options\u001b[49m\u001b[38;5;241;43m=\u001b[39;49m\u001b[43mstorage_options\u001b[49m\n\u001b[0;32m    946\u001b[0m \u001b[43m    \u001b[49m\u001b[43m)\u001b[49m\n\u001b[0;32m    947\u001b[0m     need_save \u001b[38;5;241m=\u001b[39m \u001b[38;5;28;01mTrue\u001b[39;00m\n\u001b[0;32m    949\u001b[0m \u001b[38;5;28;01mtry\u001b[39;00m:\n",
      "File \u001b[1;32m~\\anaconda3\\New folder\\lib\\site-packages\\pandas\\io\\excel\\_openpyxl.py:60\u001b[0m, in \u001b[0;36mOpenpyxlWriter.__init__\u001b[1;34m(self, path, engine, date_format, datetime_format, mode, storage_options, if_sheet_exists, engine_kwargs, **kwargs)\u001b[0m\n\u001b[0;32m     56\u001b[0m \u001b[38;5;28;01mfrom\u001b[39;00m \u001b[38;5;21;01mopenpyxl\u001b[39;00m\u001b[38;5;21;01m.\u001b[39;00m\u001b[38;5;21;01mworkbook\u001b[39;00m \u001b[38;5;28;01mimport\u001b[39;00m Workbook\n\u001b[0;32m     58\u001b[0m engine_kwargs \u001b[38;5;241m=\u001b[39m combine_kwargs(engine_kwargs, kwargs)\n\u001b[1;32m---> 60\u001b[0m \u001b[38;5;28;43msuper\u001b[39;49m\u001b[43m(\u001b[49m\u001b[43m)\u001b[49m\u001b[38;5;241;43m.\u001b[39;49m\u001b[38;5;21;43m__init__\u001b[39;49m\u001b[43m(\u001b[49m\n\u001b[0;32m     61\u001b[0m \u001b[43m    \u001b[49m\u001b[43mpath\u001b[49m\u001b[43m,\u001b[49m\n\u001b[0;32m     62\u001b[0m \u001b[43m    \u001b[49m\u001b[43mmode\u001b[49m\u001b[38;5;241;43m=\u001b[39;49m\u001b[43mmode\u001b[49m\u001b[43m,\u001b[49m\n\u001b[0;32m     63\u001b[0m \u001b[43m    \u001b[49m\u001b[43mstorage_options\u001b[49m\u001b[38;5;241;43m=\u001b[39;49m\u001b[43mstorage_options\u001b[49m\u001b[43m,\u001b[49m\n\u001b[0;32m     64\u001b[0m \u001b[43m    \u001b[49m\u001b[43mif_sheet_exists\u001b[49m\u001b[38;5;241;43m=\u001b[39;49m\u001b[43mif_sheet_exists\u001b[49m\u001b[43m,\u001b[49m\n\u001b[0;32m     65\u001b[0m \u001b[43m    \u001b[49m\u001b[43mengine_kwargs\u001b[49m\u001b[38;5;241;43m=\u001b[39;49m\u001b[43mengine_kwargs\u001b[49m\u001b[43m,\u001b[49m\n\u001b[0;32m     66\u001b[0m \u001b[43m\u001b[49m\u001b[43m)\u001b[49m\n\u001b[0;32m     68\u001b[0m \u001b[38;5;66;03m# ExcelWriter replaced \"a\" by \"r+\" to allow us to first read the excel file from\u001b[39;00m\n\u001b[0;32m     69\u001b[0m \u001b[38;5;66;03m# the file and later write to it\u001b[39;00m\n\u001b[0;32m     70\u001b[0m \u001b[38;5;28;01mif\u001b[39;00m \u001b[38;5;124m\"\u001b[39m\u001b[38;5;124mr+\u001b[39m\u001b[38;5;124m\"\u001b[39m \u001b[38;5;129;01min\u001b[39;00m \u001b[38;5;28mself\u001b[39m\u001b[38;5;241m.\u001b[39m_mode:  \u001b[38;5;66;03m# Load from existing workbook\u001b[39;00m\n",
      "File \u001b[1;32m~\\anaconda3\\New folder\\lib\\site-packages\\pandas\\io\\excel\\_base.py:1313\u001b[0m, in \u001b[0;36mExcelWriter.__init__\u001b[1;34m(self, path, engine, date_format, datetime_format, mode, storage_options, if_sheet_exists, engine_kwargs, **kwargs)\u001b[0m\n\u001b[0;32m   1309\u001b[0m \u001b[38;5;28mself\u001b[39m\u001b[38;5;241m.\u001b[39m_handles \u001b[38;5;241m=\u001b[39m IOHandles(\n\u001b[0;32m   1310\u001b[0m     cast(IO[\u001b[38;5;28mbytes\u001b[39m], path), compression\u001b[38;5;241m=\u001b[39m{\u001b[38;5;124m\"\u001b[39m\u001b[38;5;124mcompression\u001b[39m\u001b[38;5;124m\"\u001b[39m: \u001b[38;5;28;01mNone\u001b[39;00m}\n\u001b[0;32m   1311\u001b[0m )\n\u001b[0;32m   1312\u001b[0m \u001b[38;5;28;01mif\u001b[39;00m \u001b[38;5;129;01mnot\u001b[39;00m \u001b[38;5;28misinstance\u001b[39m(path, ExcelWriter):\n\u001b[1;32m-> 1313\u001b[0m     \u001b[38;5;28mself\u001b[39m\u001b[38;5;241m.\u001b[39m_handles \u001b[38;5;241m=\u001b[39m \u001b[43mget_handle\u001b[49m\u001b[43m(\u001b[49m\n\u001b[0;32m   1314\u001b[0m \u001b[43m        \u001b[49m\u001b[43mpath\u001b[49m\u001b[43m,\u001b[49m\u001b[43m \u001b[49m\u001b[43mmode\u001b[49m\u001b[43m,\u001b[49m\u001b[43m \u001b[49m\u001b[43mstorage_options\u001b[49m\u001b[38;5;241;43m=\u001b[39;49m\u001b[43mstorage_options\u001b[49m\u001b[43m,\u001b[49m\u001b[43m \u001b[49m\u001b[43mis_text\u001b[49m\u001b[38;5;241;43m=\u001b[39;49m\u001b[38;5;28;43;01mFalse\u001b[39;49;00m\n\u001b[0;32m   1315\u001b[0m \u001b[43m    \u001b[49m\u001b[43m)\u001b[49m\n\u001b[0;32m   1316\u001b[0m \u001b[38;5;28mself\u001b[39m\u001b[38;5;241m.\u001b[39m_cur_sheet \u001b[38;5;241m=\u001b[39m \u001b[38;5;28;01mNone\u001b[39;00m\n\u001b[0;32m   1318\u001b[0m \u001b[38;5;28;01mif\u001b[39;00m date_format \u001b[38;5;129;01mis\u001b[39;00m \u001b[38;5;28;01mNone\u001b[39;00m:\n",
      "File \u001b[1;32m~\\anaconda3\\New folder\\lib\\site-packages\\pandas\\io\\common.py:865\u001b[0m, in \u001b[0;36mget_handle\u001b[1;34m(path_or_buf, mode, encoding, compression, memory_map, is_text, errors, storage_options)\u001b[0m\n\u001b[0;32m    856\u001b[0m         handle \u001b[38;5;241m=\u001b[39m \u001b[38;5;28mopen\u001b[39m(\n\u001b[0;32m    857\u001b[0m             handle,\n\u001b[0;32m    858\u001b[0m             ioargs\u001b[38;5;241m.\u001b[39mmode,\n\u001b[1;32m   (...)\u001b[0m\n\u001b[0;32m    861\u001b[0m             newline\u001b[38;5;241m=\u001b[39m\u001b[38;5;124m\"\u001b[39m\u001b[38;5;124m\"\u001b[39m,\n\u001b[0;32m    862\u001b[0m         )\n\u001b[0;32m    863\u001b[0m     \u001b[38;5;28;01melse\u001b[39;00m:\n\u001b[0;32m    864\u001b[0m         \u001b[38;5;66;03m# Binary mode\u001b[39;00m\n\u001b[1;32m--> 865\u001b[0m         handle \u001b[38;5;241m=\u001b[39m \u001b[38;5;28;43mopen\u001b[39;49m\u001b[43m(\u001b[49m\u001b[43mhandle\u001b[49m\u001b[43m,\u001b[49m\u001b[43m \u001b[49m\u001b[43mioargs\u001b[49m\u001b[38;5;241;43m.\u001b[39;49m\u001b[43mmode\u001b[49m\u001b[43m)\u001b[49m\n\u001b[0;32m    866\u001b[0m     handles\u001b[38;5;241m.\u001b[39mappend(handle)\n\u001b[0;32m    868\u001b[0m \u001b[38;5;66;03m# Convert BytesIO or file objects passed with an encoding\u001b[39;00m\n",
      "\u001b[1;31mPermissionError\u001b[0m: [Errno 13] Permission denied: 'C:\\\\Users\\\\nabil\\\\OneDrive\\\\Desktop\\\\weather.xlsx'"
     ]
    }
   ],
   "source": [
    "import pandas as pd\n",
    "\n",
    "# Define the filename for your Excel file\n",
    "excel_filename = \"C:\\\\Users\\\\nabil\\\\OneDrive\\\\Desktop\\\\weather.xlsx\"\n",
    "\n",
    "# New city name\n",
    "new_city_name = \"toronto\"\n",
    "\n",
    "# Check if the Excel file already exists\n",
    "if not os.path.exists(excel_filename):\n",
    "    # If the file doesn't exist, create a new one and write the header row\n",
    "    data = pd.DataFrame(columns=[\"city\", \"co\", \"no2\", \"o3\", \"so2\", \"pm2_5\", \"pm10\"])\n",
    "else:\n",
    "    # If the file already exists, we will append data to it\n",
    "    try:\n",
    "        data = pd.read_excel(excel_filename)\n",
    "    except pd.errors.EmptyDataError:\n",
    "        # Handle the case when the file is empty\n",
    "        data = pd.DataFrame(columns=[\"city\", \"co\", \"no2\", \"o3\", \"so2\", \"pm2_5\", \"pm10\"])\n",
    "\n",
    "# Check if the 'city' column exists in the DataFrame\n",
    "if 'city' not in data.columns:\n",
    "    # If 'city' column doesn't exist, add it\n",
    "    data.insert(0, 'city', '')\n",
    "\n",
    "# Check if the city name is already in the Excel file\n",
    "city_exists = new_city_name in data['city'].values\n",
    "\n",
    "# If the city doesn't exist in the Excel file, append the data\n",
    "if not city_exists:\n",
    "    city_data = {\"city\": new_city_name}\n",
    "    for key in [\"co\", \"no2\", \"o3\", \"so2\", \"pm2_5\", \"pm10\"]:\n",
    "        city_data[key] = air_quality_data.get(key, None)\n",
    "    data = data.append(city_data, ignore_index=True)\n",
    "# Drop the columns that you want to remove\n",
    "#columns_to_drop = [\"us_epa_index\", \"gb_defra_index\"]\n",
    "#data = data.drop(columns_to_drop, axis=1)\n",
    "\n",
    "# Write the data to the Excel file\n",
    "data.to_excel(excel_filename, index=False)\n",
    "\n",
    "print(\"Data for\", new_city_name, \"has been written to\", excel_filename)\n"
   ]
  },
  {
   "cell_type": "code",
   "execution_count": 32,
   "id": "5da5cd3b",
   "metadata": {},
   "outputs": [
    {
     "name": "stdout",
     "output_type": "stream",
     "text": [
      "Index(['city', 'co', 'no2', 'o3', 'so2', 'pm2_5', 'pm10'], dtype='object')\n"
     ]
    }
   ],
   "source": [
    "print(data.columns)"
   ]
  },
  {
   "cell_type": "code",
   "execution_count": null,
   "id": "6a24000b",
   "metadata": {},
   "outputs": [],
   "source": []
  }
 ],
 "metadata": {
  "kernelspec": {
   "display_name": "Python 3 (ipykernel)",
   "language": "python",
   "name": "python3"
  },
  "language_info": {
   "codemirror_mode": {
    "name": "ipython",
    "version": 3
   },
   "file_extension": ".py",
   "mimetype": "text/x-python",
   "name": "python",
   "nbconvert_exporter": "python",
   "pygments_lexer": "ipython3",
   "version": "3.10.9"
  }
 },
 "nbformat": 4,
 "nbformat_minor": 5
}
