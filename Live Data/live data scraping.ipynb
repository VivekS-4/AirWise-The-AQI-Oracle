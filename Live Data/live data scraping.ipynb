{
 "cells": [
  {
   "cell_type": "code",
   "execution_count": 6,
   "id": "6b836ed4",
   "metadata": {},
   "outputs": [
    {
     "name": "stdout",
     "output_type": "stream",
     "text": [
      "Requirement already satisfied: requests in c:\\users\\nabil\\anaconda3\\new folder\\lib\\site-packages (2.28.1)\n",
      "Requirement already satisfied: idna<4,>=2.5 in c:\\users\\nabil\\anaconda3\\new folder\\lib\\site-packages (from requests) (3.4)\n",
      "Requirement already satisfied: certifi>=2017.4.17 in c:\\users\\nabil\\anaconda3\\new folder\\lib\\site-packages (from requests) (2022.12.7)\n",
      "Requirement already satisfied: urllib3<1.27,>=1.21.1 in c:\\users\\nabil\\anaconda3\\new folder\\lib\\site-packages (from requests) (1.26.14)\n",
      "Requirement already satisfied: charset-normalizer<3,>=2 in c:\\users\\nabil\\anaconda3\\new folder\\lib\\site-packages (from requests) (2.0.4)\n",
      "Note: you may need to restart the kernel to use updated packages.\n"
     ]
    }
   ],
   "source": [
    "pip install requests\n"
   ]
  },
  {
   "cell_type": "code",
   "execution_count": 9,
   "id": "d0075ae4",
   "metadata": {},
   "outputs": [
    {
     "name": "stdout",
     "output_type": "stream",
     "text": [
      "{\n",
      "    \"location\": {\n",
      "        \"name\": \"Toronto\",\n",
      "        \"region\": \"Ontario\",\n",
      "        \"country\": \"Canada\",\n",
      "        \"lat\": 43.67,\n",
      "        \"lon\": -79.42,\n",
      "        \"tz_id\": \"America/Toronto\",\n",
      "        \"localtime_epoch\": 1696867651,\n",
      "        \"localtime\": \"2023-10-09 12:07\"\n",
      "    },\n",
      "    \"current\": {\n",
      "        \"last_updated_epoch\": 1696867200,\n",
      "        \"last_updated\": \"2023-10-09 12:00\",\n",
      "        \"temp_c\": 8.0,\n",
      "        \"temp_f\": 46.4,\n",
      "        \"is_day\": 1,\n",
      "        \"condition\": {\n",
      "            \"text\": \"Overcast\",\n",
      "            \"icon\": \"//cdn.weatherapi.com/weather/64x64/day/122.png\",\n",
      "            \"code\": 1009\n",
      "        },\n",
      "        \"wind_mph\": 18.6,\n",
      "        \"wind_kph\": 29.9,\n",
      "        \"wind_degree\": 220,\n",
      "        \"wind_dir\": \"SW\",\n",
      "        \"pressure_mb\": 1001.0,\n",
      "        \"pressure_in\": 29.57,\n",
      "        \"precip_mm\": 0.01,\n",
      "        \"precip_in\": 0.0,\n",
      "        \"humidity\": 81,\n",
      "        \"cloud\": 100,\n",
      "        \"feelslike_c\": 4.7,\n",
      "        \"feelslike_f\": 40.5,\n",
      "        \"vis_km\": 14.0,\n",
      "        \"vis_miles\": 8.0,\n",
      "        \"uv\": 3.0,\n",
      "        \"gust_mph\": 15.6,\n",
      "        \"gust_kph\": 25.1,\n",
      "        \"air_quality\": {\n",
      "            \"co\": 287.1,\n",
      "            \"no2\": 5.7,\n",
      "            \"o3\": 50.8,\n",
      "            \"so2\": 2.9,\n",
      "            \"pm2_5\": 0.7,\n",
      "            \"pm10\": 1.3,\n",
      "            \"us-epa-index\": 1,\n",
      "            \"gb-defra-index\": 1\n",
      "        }\n",
      "    }\n",
      "}\n"
     ]
    }
   ],
   "source": [
    "import requests\n",
    "import json\n",
    "print(json.dumps(data, indent=4))"
   ]
  },
  {
   "cell_type": "code",
   "execution_count": 15,
   "id": "69f1390d",
   "metadata": {},
   "outputs": [
    {
     "name": "stdout",
     "output_type": "stream",
     "text": [
      "{\n",
      "    \"co\": 310.4,\n",
      "    \"no2\": 12.5,\n",
      "    \"o3\": 46.5,\n",
      "    \"so2\": 5.1,\n",
      "    \"pm2_5\": 1.2,\n",
      "    \"pm10\": 2.3,\n",
      "    \"us-epa-index\": 1,\n",
      "    \"gb-defra-index\": 1\n",
      "}\n"
     ]
    }
   ],
   "source": [
    "base = \"http://api.weatherapi.com/v1/current.json?\"\n",
    "key = \"45b07e7bb09e49c58b3152953230910\"\n",
    "q= \"pickering\"\n",
    "url = base+\"key=\"+key+\"&q=\"+q+\"&aqi=yes\"\n",
    "\n",
    "response = requests.get(url)\n",
    "data = response.json()\n",
    "\n",
    "# Extract air quality data\n",
    "air_quality_data = data['current']['air_quality']\n",
    "\n",
    "# Print the air quality data\n",
    "print(json.dumps(air_quality_data, indent=4))\n",
    "\n",
    "\n",
    "#print(json.dumps(data, indent=4))\n"
   ]
  }
 ],
 "metadata": {
  "kernelspec": {
   "display_name": "Python 3 (ipykernel)",
   "language": "python",
   "name": "python3"
  },
  "language_info": {
   "codemirror_mode": {
    "name": "ipython",
    "version": 3
   },
   "file_extension": ".py",
   "mimetype": "text/x-python",
   "name": "python",
   "nbconvert_exporter": "python",
   "pygments_lexer": "ipython3",
   "version": "3.10.9"
  }
 },
 "nbformat": 4,
 "nbformat_minor": 5
}
